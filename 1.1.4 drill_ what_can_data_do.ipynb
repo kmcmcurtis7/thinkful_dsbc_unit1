{
 "cells": [
  {
   "attachments": {},
   "cell_type": "markdown",
   "metadata": {},
   "source": [
    "### DRILL: What can data science do?  Unit 1.1.4"
   ]
  },
  {
   "attachments": {},
   "cell_type": "markdown",
   "metadata": {},
   "source": [
    "1. You work at an e-commerce company that sells three goods: widgets, doodads, and fizzbangs. The head of advertising asks you which they should feature in their new advertising campaign. You have data on individual visitors' sessions (activity on a website, pageviews, and purchases), as well as whether or not those users converted from an advertisement for that session. You also have the cost and price information for the goods.   "
   ]
  },
  {
   "attachments": {},
   "cell_type": "markdown",
   "metadata": {},
   "source": [
    ">o\tCheck to see how many of each of the goods we have sold within the last couple years, see if there are any trends to sales during certain times of the year as it may depend on the time of year on the best time to feature the different products. A line chart showing each of the three goods as a different colored line should show us of any trends.  \n",
    "\n",
    ">o\tThen do an analysis of the visitors’ sessions to whether people converted to purchasing from an ad, compared to total sales within a certain time frame.  This should tell us if the advertising is actually effective.  A scatterplot should be able to tell us if there is a relationship or not.\n"
   ]
  },
  {
   "attachments": {},
   "cell_type": "markdown",
   "metadata": {},
   "source": [
    "2.\tYou work at a web design company that offers to build websites for clients. Signups have slowed, and you are tasked with finding out why. The onboarding funnel has three steps: email and password signup, plan choice, and payment. On a user level you have information on what steps they have completed as well as timestamps for all of those events for the past 3 years. You also have information on marketing spend on a weekly level."
   ]
  },
  {
   "attachments": {},
   "cell_type": "markdown",
   "metadata": {},
   "source": [
    ">o\tFirst let’s see when the signups started to slow and if it has occurred before.   A line graph can show this.\n",
    "\n",
    ">o\tSee what the average time is for clients to go from each step in the onboarding funnel, and see if there I some discrepancy there.  Histogram will be able to show the time average.  May need to dig in deeper if there is a large discrepancy here.\n",
    "\n",
    ">o\tWhat has been the market spend over the past 3 years?  Has there been large drops in pricing to get sale and if so, what reasoning was behind that?  That could be a reason for a drop in signups if pricing is no longer as low. Bar graph with columns for market spend and pricing by quarter."
   ]
  },
  {
   "attachments": {},
   "cell_type": "markdown",
   "metadata": {},
   "source": [
    "3.\tYou work at a hotel website and currently the website ranks search results by price. For simplicity's sake, let's say it's a website for one city with 100 hotels. You are tasked with proposing a better ranking system. You have session information, price information for the hotels, and whether each hotel is currently available.  "
   ]
  },
  {
   "attachments": {},
   "cell_type": "markdown",
   "metadata": {},
   "source": [
    ">o\tSince everyone spends time at a hotel at some point in their life, go ask employees what they liked when searching for a hotel.  This will give you some idea of where to start looking.  Though it will be somewhat bias, employees still have their own opinions of what they want when looking for a hotel.  \n",
    "\n",
    ">o\tThen I would look through sessions and see if there were certain hotels that are selected more often than not (resort, business, family, budget) and see if those hotels have common features among them. Bar graph comparing features would work here.  Then find what the top 10 features are and suggest a ranking system based on these features."
   ]
  },
  {
   "attachments": {},
   "cell_type": "markdown",
   "metadata": {},
   "source": [
    "4.\tYou work at a social network, and the management is worried about churn (users stopping using the product). You are tasked with finding out if their churn is atypical. You have three years of data for users with an entry for every time they've logged in, including the timestamp and length of session. "
   ]
  },
  {
   "attachments": {},
   "cell_type": "markdown",
   "metadata": {},
   "source": [
    ">o\tCheck to see if the original first users of the product are still using the product and if they are not, when did they stop.  Did they stop all at the same time or at different times.  Line Graph with time series on products and when users tend to drop off.  \n",
    "\n",
    ">o\tDo users have a slowdown of logging in before they stop using the product?  Average of logging in on customers that stopped using the product within the last month before they stopped using the product.  \n",
    "\n",
    ">o\tDid they comment/complain about problems with the product before they stopped using the product? This could be a ‘key” to solving the problem of users no longer using the product.  Average number of complaints within a month before user stopped using product.  Do a scatterplot of users who stopped using product compared to complaints within a month before they stopped.\n",
    "\n",
    ">o\tWas there significant changes to the website around the time the users stopped using product?  Find out dates of change and show users who dropped off within a month of change.  If not too many dates of change, do a histogram for each date.\n"
   ]
  }
 ],
 "metadata": {
  "kernelspec": {
   "display_name": "Python 3",
   "language": "python",
   "name": "python3"
  },
  "language_info": {
   "codemirror_mode": {
    "name": "ipython",
    "version": 3
   },
   "file_extension": ".py",
   "mimetype": "text/x-python",
   "name": "python",
   "nbconvert_exporter": "python",
   "pygments_lexer": "ipython3",
   "version": "3.7.1"
  }
 },
 "nbformat": 4,
 "nbformat_minor": 2
}
